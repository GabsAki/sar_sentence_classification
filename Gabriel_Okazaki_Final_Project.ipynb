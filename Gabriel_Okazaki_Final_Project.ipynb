{
  "nbformat": 4,
  "nbformat_minor": 0,
  "metadata": {
    "colab": {
      "provenance": [],
      "authorship_tag": "ABX9TyPVXhEW1GgRYqh10DImi0cV",
      "include_colab_link": true
    },
    "kernelspec": {
      "name": "python3",
      "display_name": "Python 3"
    },
    "language_info": {
      "name": "python"
    }
  },
  "cells": [
    {
      "cell_type": "markdown",
      "metadata": {
        "id": "view-in-github",
        "colab_type": "text"
      },
      "source": [
        "<a href=\"https://colab.research.google.com/github/GabsAki/sar_sentence_classification/blob/main/Gabriel_Okazaki_Final_Project.ipynb\" target=\"_parent\"><img src=\"https://colab.research.google.com/assets/colab-badge.svg\" alt=\"Open In Colab\"/></a>"
      ]
    },
    {
      "cell_type": "markdown",
      "source": [
        "# Dataset"
      ],
      "metadata": {
        "id": "FV6uQ2Esc-oV"
      }
    },
    {
      "cell_type": "code",
      "source": [
        "import pandas as pd\n",
        "\n",
        "df = pd.read_csv(\"https://raw.githubusercontent.com/GabsAki/sar_sentence_classification/main/sar_sentences.csv\")\n",
        "df.head()"
      ],
      "metadata": {
        "colab": {
          "base_uri": "https://localhost:8080/",
          "height": 206
        },
        "id": "ewQrdHg5UHPJ",
        "outputId": "5019636b-cabc-4706-d3f9-cc77e1fff2a7"
      },
      "execution_count": null,
      "outputs": [
        {
          "output_type": "execute_result",
          "data": {
            "text/plain": [
              "                                            Sentence   Category\n",
              "0      The project deadline was approaching rapidly.  Situation\n",
              "1  I conducted a thorough market analysis to iden...     Action\n",
              "2  We successfully exceeded our sales target by 25%.     Result\n",
              "3                     The weather was unpredictable.  Situation\n",
              "4     I decided to implement a new training program.     Action"
            ],
            "text/html": [
              "\n",
              "  <div id=\"df-5db3313e-0336-45f8-ab50-1f75cd44007f\" class=\"colab-df-container\">\n",
              "    <div>\n",
              "<style scoped>\n",
              "    .dataframe tbody tr th:only-of-type {\n",
              "        vertical-align: middle;\n",
              "    }\n",
              "\n",
              "    .dataframe tbody tr th {\n",
              "        vertical-align: top;\n",
              "    }\n",
              "\n",
              "    .dataframe thead th {\n",
              "        text-align: right;\n",
              "    }\n",
              "</style>\n",
              "<table border=\"1\" class=\"dataframe\">\n",
              "  <thead>\n",
              "    <tr style=\"text-align: right;\">\n",
              "      <th></th>\n",
              "      <th>Sentence</th>\n",
              "      <th>Category</th>\n",
              "    </tr>\n",
              "  </thead>\n",
              "  <tbody>\n",
              "    <tr>\n",
              "      <th>0</th>\n",
              "      <td>The project deadline was approaching rapidly.</td>\n",
              "      <td>Situation</td>\n",
              "    </tr>\n",
              "    <tr>\n",
              "      <th>1</th>\n",
              "      <td>I conducted a thorough market analysis to iden...</td>\n",
              "      <td>Action</td>\n",
              "    </tr>\n",
              "    <tr>\n",
              "      <th>2</th>\n",
              "      <td>We successfully exceeded our sales target by 25%.</td>\n",
              "      <td>Result</td>\n",
              "    </tr>\n",
              "    <tr>\n",
              "      <th>3</th>\n",
              "      <td>The weather was unpredictable.</td>\n",
              "      <td>Situation</td>\n",
              "    </tr>\n",
              "    <tr>\n",
              "      <th>4</th>\n",
              "      <td>I decided to implement a new training program.</td>\n",
              "      <td>Action</td>\n",
              "    </tr>\n",
              "  </tbody>\n",
              "</table>\n",
              "</div>\n",
              "    <div class=\"colab-df-buttons\">\n",
              "\n",
              "  <div class=\"colab-df-container\">\n",
              "    <button class=\"colab-df-convert\" onclick=\"convertToInteractive('df-5db3313e-0336-45f8-ab50-1f75cd44007f')\"\n",
              "            title=\"Convert this dataframe to an interactive table.\"\n",
              "            style=\"display:none;\">\n",
              "\n",
              "  <svg xmlns=\"http://www.w3.org/2000/svg\" height=\"24px\" viewBox=\"0 -960 960 960\">\n",
              "    <path d=\"M120-120v-720h720v720H120Zm60-500h600v-160H180v160Zm220 220h160v-160H400v160Zm0 220h160v-160H400v160ZM180-400h160v-160H180v160Zm440 0h160v-160H620v160ZM180-180h160v-160H180v160Zm440 0h160v-160H620v160Z\"/>\n",
              "  </svg>\n",
              "    </button>\n",
              "\n",
              "  <style>\n",
              "    .colab-df-container {\n",
              "      display:flex;\n",
              "      gap: 12px;\n",
              "    }\n",
              "\n",
              "    .colab-df-convert {\n",
              "      background-color: #E8F0FE;\n",
              "      border: none;\n",
              "      border-radius: 50%;\n",
              "      cursor: pointer;\n",
              "      display: none;\n",
              "      fill: #1967D2;\n",
              "      height: 32px;\n",
              "      padding: 0 0 0 0;\n",
              "      width: 32px;\n",
              "    }\n",
              "\n",
              "    .colab-df-convert:hover {\n",
              "      background-color: #E2EBFA;\n",
              "      box-shadow: 0px 1px 2px rgba(60, 64, 67, 0.3), 0px 1px 3px 1px rgba(60, 64, 67, 0.15);\n",
              "      fill: #174EA6;\n",
              "    }\n",
              "\n",
              "    .colab-df-buttons div {\n",
              "      margin-bottom: 4px;\n",
              "    }\n",
              "\n",
              "    [theme=dark] .colab-df-convert {\n",
              "      background-color: #3B4455;\n",
              "      fill: #D2E3FC;\n",
              "    }\n",
              "\n",
              "    [theme=dark] .colab-df-convert:hover {\n",
              "      background-color: #434B5C;\n",
              "      box-shadow: 0px 1px 3px 1px rgba(0, 0, 0, 0.15);\n",
              "      filter: drop-shadow(0px 1px 2px rgba(0, 0, 0, 0.3));\n",
              "      fill: #FFFFFF;\n",
              "    }\n",
              "  </style>\n",
              "\n",
              "    <script>\n",
              "      const buttonEl =\n",
              "        document.querySelector('#df-5db3313e-0336-45f8-ab50-1f75cd44007f button.colab-df-convert');\n",
              "      buttonEl.style.display =\n",
              "        google.colab.kernel.accessAllowed ? 'block' : 'none';\n",
              "\n",
              "      async function convertToInteractive(key) {\n",
              "        const element = document.querySelector('#df-5db3313e-0336-45f8-ab50-1f75cd44007f');\n",
              "        const dataTable =\n",
              "          await google.colab.kernel.invokeFunction('convertToInteractive',\n",
              "                                                    [key], {});\n",
              "        if (!dataTable) return;\n",
              "\n",
              "        const docLinkHtml = 'Like what you see? Visit the ' +\n",
              "          '<a target=\"_blank\" href=https://colab.research.google.com/notebooks/data_table.ipynb>data table notebook</a>'\n",
              "          + ' to learn more about interactive tables.';\n",
              "        element.innerHTML = '';\n",
              "        dataTable['output_type'] = 'display_data';\n",
              "        await google.colab.output.renderOutput(dataTable, element);\n",
              "        const docLink = document.createElement('div');\n",
              "        docLink.innerHTML = docLinkHtml;\n",
              "        element.appendChild(docLink);\n",
              "      }\n",
              "    </script>\n",
              "  </div>\n",
              "\n",
              "\n",
              "<div id=\"df-5f084e35-5b08-4e40-85c6-9e833e8e4e5f\">\n",
              "  <button class=\"colab-df-quickchart\" onclick=\"quickchart('df-5f084e35-5b08-4e40-85c6-9e833e8e4e5f')\"\n",
              "            title=\"Suggest charts\"\n",
              "            style=\"display:none;\">\n",
              "\n",
              "<svg xmlns=\"http://www.w3.org/2000/svg\" height=\"24px\"viewBox=\"0 0 24 24\"\n",
              "     width=\"24px\">\n",
              "    <g>\n",
              "        <path d=\"M19 3H5c-1.1 0-2 .9-2 2v14c0 1.1.9 2 2 2h14c1.1 0 2-.9 2-2V5c0-1.1-.9-2-2-2zM9 17H7v-7h2v7zm4 0h-2V7h2v10zm4 0h-2v-4h2v4z\"/>\n",
              "    </g>\n",
              "</svg>\n",
              "  </button>\n",
              "\n",
              "<style>\n",
              "  .colab-df-quickchart {\n",
              "      --bg-color: #E8F0FE;\n",
              "      --fill-color: #1967D2;\n",
              "      --hover-bg-color: #E2EBFA;\n",
              "      --hover-fill-color: #174EA6;\n",
              "      --disabled-fill-color: #AAA;\n",
              "      --disabled-bg-color: #DDD;\n",
              "  }\n",
              "\n",
              "  [theme=dark] .colab-df-quickchart {\n",
              "      --bg-color: #3B4455;\n",
              "      --fill-color: #D2E3FC;\n",
              "      --hover-bg-color: #434B5C;\n",
              "      --hover-fill-color: #FFFFFF;\n",
              "      --disabled-bg-color: #3B4455;\n",
              "      --disabled-fill-color: #666;\n",
              "  }\n",
              "\n",
              "  .colab-df-quickchart {\n",
              "    background-color: var(--bg-color);\n",
              "    border: none;\n",
              "    border-radius: 50%;\n",
              "    cursor: pointer;\n",
              "    display: none;\n",
              "    fill: var(--fill-color);\n",
              "    height: 32px;\n",
              "    padding: 0;\n",
              "    width: 32px;\n",
              "  }\n",
              "\n",
              "  .colab-df-quickchart:hover {\n",
              "    background-color: var(--hover-bg-color);\n",
              "    box-shadow: 0 1px 2px rgba(60, 64, 67, 0.3), 0 1px 3px 1px rgba(60, 64, 67, 0.15);\n",
              "    fill: var(--button-hover-fill-color);\n",
              "  }\n",
              "\n",
              "  .colab-df-quickchart-complete:disabled,\n",
              "  .colab-df-quickchart-complete:disabled:hover {\n",
              "    background-color: var(--disabled-bg-color);\n",
              "    fill: var(--disabled-fill-color);\n",
              "    box-shadow: none;\n",
              "  }\n",
              "\n",
              "  .colab-df-spinner {\n",
              "    border: 2px solid var(--fill-color);\n",
              "    border-color: transparent;\n",
              "    border-bottom-color: var(--fill-color);\n",
              "    animation:\n",
              "      spin 1s steps(1) infinite;\n",
              "  }\n",
              "\n",
              "  @keyframes spin {\n",
              "    0% {\n",
              "      border-color: transparent;\n",
              "      border-bottom-color: var(--fill-color);\n",
              "      border-left-color: var(--fill-color);\n",
              "    }\n",
              "    20% {\n",
              "      border-color: transparent;\n",
              "      border-left-color: var(--fill-color);\n",
              "      border-top-color: var(--fill-color);\n",
              "    }\n",
              "    30% {\n",
              "      border-color: transparent;\n",
              "      border-left-color: var(--fill-color);\n",
              "      border-top-color: var(--fill-color);\n",
              "      border-right-color: var(--fill-color);\n",
              "    }\n",
              "    40% {\n",
              "      border-color: transparent;\n",
              "      border-right-color: var(--fill-color);\n",
              "      border-top-color: var(--fill-color);\n",
              "    }\n",
              "    60% {\n",
              "      border-color: transparent;\n",
              "      border-right-color: var(--fill-color);\n",
              "    }\n",
              "    80% {\n",
              "      border-color: transparent;\n",
              "      border-right-color: var(--fill-color);\n",
              "      border-bottom-color: var(--fill-color);\n",
              "    }\n",
              "    90% {\n",
              "      border-color: transparent;\n",
              "      border-bottom-color: var(--fill-color);\n",
              "    }\n",
              "  }\n",
              "</style>\n",
              "\n",
              "  <script>\n",
              "    async function quickchart(key) {\n",
              "      const quickchartButtonEl =\n",
              "        document.querySelector('#' + key + ' button');\n",
              "      quickchartButtonEl.disabled = true;  // To prevent multiple clicks.\n",
              "      quickchartButtonEl.classList.add('colab-df-spinner');\n",
              "      try {\n",
              "        const charts = await google.colab.kernel.invokeFunction(\n",
              "            'suggestCharts', [key], {});\n",
              "      } catch (error) {\n",
              "        console.error('Error during call to suggestCharts:', error);\n",
              "      }\n",
              "      quickchartButtonEl.classList.remove('colab-df-spinner');\n",
              "      quickchartButtonEl.classList.add('colab-df-quickchart-complete');\n",
              "    }\n",
              "    (() => {\n",
              "      let quickchartButtonEl =\n",
              "        document.querySelector('#df-5f084e35-5b08-4e40-85c6-9e833e8e4e5f button');\n",
              "      quickchartButtonEl.style.display =\n",
              "        google.colab.kernel.accessAllowed ? 'block' : 'none';\n",
              "    })();\n",
              "  </script>\n",
              "</div>\n",
              "\n",
              "    </div>\n",
              "  </div>\n"
            ],
            "application/vnd.google.colaboratory.intrinsic+json": {
              "type": "dataframe",
              "variable_name": "df",
              "summary": "{\n  \"name\": \"df\",\n  \"rows\": 1187,\n  \"fields\": [\n    {\n      \"column\": \"Sentence\",\n      \"properties\": {\n        \"dtype\": \"string\",\n        \"num_unique_values\": 851,\n        \"samples\": [\n          \"The customer reviews were mixed.\",\n          \"The project adapted to client requirements.\",\n          \"I managed the public relations efforts to restore the company's brand image.\"\n        ],\n        \"semantic_type\": \"\",\n        \"description\": \"\"\n      }\n    },\n    {\n      \"column\": \"Category\",\n      \"properties\": {\n        \"dtype\": \"category\",\n        \"num_unique_values\": 3,\n        \"samples\": [\n          \"Situation\",\n          \"Action\",\n          \"Result\"\n        ],\n        \"semantic_type\": \"\",\n        \"description\": \"\"\n      }\n    }\n  ]\n}"
            }
          },
          "metadata": {},
          "execution_count": 56
        }
      ]
    },
    {
      "cell_type": "code",
      "source": [
        "df.info()"
      ],
      "metadata": {
        "colab": {
          "base_uri": "https://localhost:8080/"
        },
        "id": "emgqeuRCB4MF",
        "outputId": "c2f16637-96ba-45b5-a9ee-8a3b90e77513"
      },
      "execution_count": null,
      "outputs": [
        {
          "output_type": "stream",
          "name": "stdout",
          "text": [
            "<class 'pandas.core.frame.DataFrame'>\n",
            "RangeIndex: 1187 entries, 0 to 1186\n",
            "Data columns (total 2 columns):\n",
            " #   Column    Non-Null Count  Dtype \n",
            "---  ------    --------------  ----- \n",
            " 0   Sentence  1187 non-null   object\n",
            " 1   Category  1187 non-null   object\n",
            "dtypes: object(2)\n",
            "memory usage: 18.7+ KB\n"
          ]
        }
      ]
    },
    {
      "cell_type": "markdown",
      "source": [
        "The dataset was generated by ChatGPT and hand labeled data. Each row contains a sentece and a category, which can be Situation, Action or Result"
      ],
      "metadata": {
        "id": "amKcSIFjdw7o"
      }
    },
    {
      "cell_type": "code",
      "source": [
        "# Checking the balance of categories in the dataset\n",
        "df['Category'].value_counts()"
      ],
      "metadata": {
        "colab": {
          "base_uri": "https://localhost:8080/"
        },
        "id": "dMveQR3yA496",
        "outputId": "89e37505-230c-45e5-aa17-731e0de6ebf2"
      },
      "execution_count": null,
      "outputs": [
        {
          "output_type": "execute_result",
          "data": {
            "text/plain": [
              "Category\n",
              "Situation    412\n",
              "Result       397\n",
              "Action       378\n",
              "Name: count, dtype: int64"
            ]
          },
          "metadata": {},
          "execution_count": 4
        }
      ]
    },
    {
      "cell_type": "markdown",
      "source": [
        "# Pre-processing"
      ],
      "metadata": {
        "id": "sggv7xLnfj-a"
      }
    },
    {
      "cell_type": "code",
      "source": [
        "from sklearn.model_selection import train_test_split\n",
        "\n",
        "X = df[\"Sentence\"]\n",
        "\n",
        "# Map the categories to numerical labels\n",
        "LABEL_MAPPING = {'Situation':0, 'Action':1, 'Result': 2}\n",
        "df['label'] = df['Category'].map(LABEL_MAPPING)\n",
        "\n",
        "y = df[\"label\"]\n",
        "\n",
        "# Splitting the dataset in a statified manner so that both train and test sets are balanced in terms of categories\n",
        "X_train, X_test, y_train, y_test = train_test_split(X, y, test_size=0.2, random_state=42, stratify=y)\n",
        "\n",
        "# Reseting the index so that we can use X_train[0], for example\n",
        "X_train.reset_index(drop=True, inplace=True)\n",
        "y_train.reset_index(drop=True, inplace=True)\n",
        "X_test.reset_index(drop=True, inplace=True)\n",
        "y_test.reset_index(drop=True, inplace=True)\n",
        "\n",
        "print(f\"Train labels distribution: {y_train.value_counts()}\")\n",
        "print(f\"Test labels distribution: {y_test.value_counts()}\")"
      ],
      "metadata": {
        "colab": {
          "base_uri": "https://localhost:8080/"
        },
        "id": "pFGkgds6BQe3",
        "outputId": "043e1fdc-b1f8-470f-ea2c-ce80dd9c840c"
      },
      "execution_count": null,
      "outputs": [
        {
          "output_type": "stream",
          "name": "stdout",
          "text": [
            "Train labels distribution: label\n",
            "0    329\n",
            "2    318\n",
            "1    302\n",
            "Name: count, dtype: int64\n",
            "Test labels distribution: label\n",
            "0    83\n",
            "2    79\n",
            "1    76\n",
            "Name: count, dtype: int64\n"
          ]
        }
      ]
    },
    {
      "cell_type": "code",
      "source": [
        "from tensorflow.keras.preprocessing.text import Tokenizer\n",
        "from collections import Counter\n",
        "import matplotlib.pyplot as plt\n",
        "\n",
        "# Crate a preview tokenizer to check word frequency\n",
        "tokenizer_preview = Tokenizer()\n",
        "tokenizer_preview.fit_on_texts(X_train)\n",
        "\n",
        "word_counts = tokenizer_preview.word_counts\n",
        "sorted_counts = sorted(word_counts.items(), key=lambda x: x[1], reverse=True)\n",
        "words, counts = zip(*sorted_counts)\n",
        "\n",
        "# Plot word frequency\n",
        "plt.figure(figsize=(10, 5))\n",
        "plt.plot(range(len(counts)), counts)\n",
        "plt.xlabel('Rank')\n",
        "plt.ylabel('Frequency')\n",
        "plt.title('Word Frequency Distribution')\n",
        "plt.show()"
      ],
      "metadata": {
        "colab": {
          "base_uri": "https://localhost:8080/",
          "height": 487
        },
        "id": "AIFIT_NhjKBD",
        "outputId": "d2e6d4d9-b993-483a-cfcf-31d73f2449c4"
      },
      "execution_count": null,
      "outputs": [
        {
          "output_type": "display_data",
          "data": {
            "text/plain": [
              "<Figure size 1000x500 with 1 Axes>"
            ],
            "image/png": "[encoded data removed]"
          },
          "metadata": {}
        }
      ]
    },
    {
      "cell_type": "markdown",
      "source": [
        "We can see that frequency drops off significantly after 200 words"
      ],
      "metadata": {
        "id": "u0RAH-s_kvEh"
      }
    },
    {
      "cell_type": "code",
      "source": [
        "# Check top 10 words. The dataset has a lot of business vocabulary because of how it was generated.\n",
        "sorted_counts[:10]"
      ],
      "metadata": {
        "colab": {
          "base_uri": "https://localhost:8080/"
        },
        "id": "lYMk8I2vjxby",
        "outputId": "6e8ca372-b595-4f6d-cd62-800948149ea3"
      },
      "execution_count": null,
      "outputs": [
        {
          "output_type": "execute_result",
          "data": {
            "text/plain": [
              "[('the', 721),\n",
              " ('i', 308),\n",
              " ('was', 265),\n",
              " ('to', 155),\n",
              " ('a', 147),\n",
              " ('project', 130),\n",
              " ('team', 116),\n",
              " ('product', 108),\n",
              " ('were', 99),\n",
              " ('customer', 91)]"
            ]
          },
          "metadata": {},
          "execution_count": 7
        }
      ]
    },
    {
      "cell_type": "code",
      "source": [
        "# Defining pre-processing parameters\n",
        "oov_tok = '<OOV>'  # out of vocabulary token\n",
        "vocab_size = 200  # The maximum number of unique tokens\n",
        "\n",
        "tokenizer = Tokenizer(num_words = vocab_size,\n",
        "                      char_level = False,\n",
        "                      oov_token = oov_tok)\n",
        "tokenizer.fit_on_texts(X_train)\n",
        "\n",
        "# Get the word_index\n",
        "word_index = tokenizer.word_index\n",
        "total_words = len(word_index)\n",
        "total_words"
      ],
      "metadata": {
        "colab": {
          "base_uri": "https://localhost:8080/"
        },
        "id": "woDyAVJ30Vi_",
        "outputId": "3fcfd6f9-5d61-47ab-def7-2db200e35474"
      },
      "execution_count": null,
      "outputs": [
        {
          "output_type": "execute_result",
          "data": {
            "text/plain": [
              "1014"
            ]
          },
          "metadata": {},
          "execution_count": 8
        }
      ]
    },
    {
      "cell_type": "code",
      "source": [
        "import numpy as np\n",
        "\n",
        "training_sequences = tokenizer.texts_to_sequences(X_train)\n",
        "\n",
        "# Calculate sequence lengths\n",
        "sequence_lengths = [len(seq) for seq in training_sequences]\n",
        "\n",
        "# Plot distribution of sequence lengths\n",
        "plt.hist(sequence_lengths, bins=range(1, max(sequence_lengths) + 2))\n",
        "plt.xlabel('Sequence Length')\n",
        "plt.ylabel('Frequency')\n",
        "plt.title('Distribution of Sequence Lengths')\n",
        "plt.show()\n",
        "\n",
        "# Calculate statistics\n",
        "mean_length = np.mean(sequence_lengths)\n",
        "median_length = np.median(sequence_lengths)\n",
        "percentile_90 = np.percentile(sequence_lengths, 90)\n",
        "percentile_95 = np.percentile(sequence_lengths, 95)\n",
        "\n",
        "print(f\"Mean length: {mean_length}\")\n",
        "print(f\"Median length: {median_length}\")\n",
        "print(f\"90th percentile length: {percentile_90}\")\n",
        "print(f\"95th percentile length: {percentile_95}\")\n",
        "\n",
        "# Choose maxlen based on the 90th or 95th percentile\n",
        "maxlen = int(percentile_95)\n",
        "print(f\"Chosen maxlen: {maxlen}\")"
      ],
      "metadata": {
        "colab": {
          "base_uri": "https://localhost:8080/",
          "height": 564
        },
        "id": "uHoqINIdnw1K",
        "outputId": "1dbb5f9c-e8d3-4a89-c4d1-daec24ad5726"
      },
      "execution_count": null,
      "outputs": [
        {
          "output_type": "display_data",
          "data": {
            "text/plain": [
              "<Figure size 640x480 with 1 Axes>"
            ],
            "image/png": "[encoded data removed]"
          },
          "metadata": {}
        },
        {
          "output_type": "stream",
          "name": "stdout",
          "text": [
            "Mean length: 6.8145416227608\n",
            "Median length: 5.0\n",
            "90th percentile length: 12.0\n",
            "95th percentile length: 14.0\n",
            "Chosen maxlen: 14\n"
          ]
        }
      ]
    },
    {
      "cell_type": "code",
      "source": [
        "from tensorflow.keras.preprocessing.sequence import pad_sequences\n",
        "\n",
        "training_sequences = tokenizer.texts_to_sequences(X_train)\n",
        "\n",
        "max_len = 14\n",
        "# Post padding and truncation are recommended for the model we will use (Bi-directional LSTM)\n",
        "trunc_type = 'post'\n",
        "padding_type = 'post'\n",
        "\n",
        "training_padded = pad_sequences(\n",
        "    training_sequences,\n",
        "    maxlen = max_len,\n",
        "    padding = padding_type,\n",
        "    truncating = trunc_type\n",
        ")\n",
        "\n",
        "testing_sequences = tokenizer.texts_to_sequences(X_test)\n",
        "testing_padded = pad_sequences(\n",
        "    testing_sequences,\n",
        "    maxlen = max_len,\n",
        "    padding = padding_type,\n",
        "    truncating = trunc_type\n",
        ")"
      ],
      "metadata": {
        "id": "6no0fRih48rt"
      },
      "execution_count": null,
      "outputs": []
    },
    {
      "cell_type": "markdown",
      "source": [
        "# Model"
      ],
      "metadata": {
        "id": "K16hsgThr63f"
      }
    },
    {
      "cell_type": "code",
      "source": [
        "from tensorflow.keras.models import Sequential\n",
        "from tensorflow.keras.layers import Bidirectional, LSTM, Dense, Embedding, Dropout, BatchNormalization\n",
        "from tensorflow.keras.regularizers import l2\n",
        "\n",
        "# Since our sequences are not long and our task is simple (classification), we chose smaller numbers for n_lstm and embedding_dim\n",
        "n_lstm = 32\n",
        "embedding_dim = 16\n",
        "\n",
        "# Dropout layer and kernel_regularizer L2 were added to prevent overfitting\n",
        "l2_penalty = 0.02\n",
        "drop_lstm = 0.2\n",
        "\n",
        "model = Sequential()\n",
        "model.add(Embedding(vocab_size, embedding_dim, input_length = max_len))\n",
        "model.add(Bidirectional(LSTM(n_lstm, return_sequences = False, kernel_regularizer=l2(l2_penalty))))\n",
        "model.add(Dropout(drop_lstm))\n",
        "model.add(BatchNormalization())\n",
        "model.add(Dense(3, activation = 'softmax', kernel_regularizer=l2(l2_penalty)))\n",
        "\n",
        "model.summary()"
      ],
      "metadata": {
        "colab": {
          "base_uri": "https://localhost:8080/"
        },
        "id": "9nVv8vsa2Jem",
        "outputId": "6c8dae86-d0b3-41e0-8840-965b6b4e3961"
      },
      "execution_count": null,
      "outputs": [
        {
          "output_type": "stream",
          "name": "stdout",
          "text": [
            "Model: \"sequential_3\"\n",
            "_________________________________________________________________\n",
            " Layer (type)                Output Shape              Param #   \n",
            "=================================================================\n",
            " embedding_3 (Embedding)     (None, 14, 16)            3200      \n",
            "                                                                 \n",
            " bidirectional_3 (Bidirecti  (None, 64)                12544     \n",
            " onal)                                                           \n",
            "                                                                 \n",
            " dropout_3 (Dropout)         (None, 64)                0         \n",
            "                                                                 \n",
            " batch_normalization_3 (Bat  (None, 64)                256       \n",
            " chNormalization)                                                \n",
            "                                                                 \n",
            " dense_3 (Dense)             (None, 3)                 195       \n",
            "                                                                 \n",
            "=================================================================\n",
            "Total params: 16195 (63.26 KB)\n",
            "Trainable params: 16067 (62.76 KB)\n",
            "Non-trainable params: 128 (512.00 Byte)\n",
            "_________________________________________________________________\n"
          ]
        }
      ]
    },
    {
      "cell_type": "markdown",
      "source": [
        "# Training"
      ],
      "metadata": {
        "id": "OK38yXfCuIDT"
      }
    },
    {
      "cell_type": "code",
      "source": [
        "model.compile(\n",
        "    loss = 'sparse_categorical_crossentropy',  # Used Sparse Categorical Cross Entropy since we have 3 classes represented as integers\n",
        "    optimizer = 'adam',\n",
        "    metrics=['accuracy']\n",
        ")"
      ],
      "metadata": {
        "id": "4XIasTB42pj8"
      },
      "execution_count": null,
      "outputs": []
    },
    {
      "cell_type": "code",
      "source": [
        "from tensorflow.keras.callbacks import EarlyStopping\n",
        "\n",
        "num_epochs = 30\n",
        "\n",
        "early_stop = EarlyStopping(monitor='val_loss', patience=2, restore_best_weights=True)  # Early stopping inplemented to prevent overfitting\n",
        "\n",
        "history = model.fit(\n",
        "    training_padded,\n",
        "    y_train,\n",
        "    epochs=num_epochs,\n",
        "    validation_data=(testing_padded, y_test),\n",
        "    callbacks =[early_stop],Read\n",
        "    verbose=2\n",
        ")"
      ],
      "metadata": {
        "colab": {
          "base_uri": "https://localhost:8080/"
        },
        "id": "fwNGh8i43BGw",
        "outputId": "181d353d-646e-45c3-b9d7-ce00f37b8026"
      },
      "execution_count": null,
      "outputs": [
        {
          "output_type": "stream",
          "name": "stdout",
          "text": [
            "Epoch 1/30\n",
            "30/30 - 7s - loss: 1.9738 - accuracy: 0.6122 - val_loss: 1.9542 - val_accuracy: 0.4538 - 7s/epoch - 238ms/step\n",
            "Epoch 2/30\n",
            "30/30 - 0s - loss: 1.3256 - accuracy: 0.7924 - val_loss: 1.6688 - val_accuracy: 0.5126 - 445ms/epoch - 15ms/step\n",
            "Epoch 3/30\n",
            "30/30 - 0s - loss: 0.9199 - accuracy: 0.8830 - val_loss: 1.4655 - val_accuracy: 0.4034 - 467ms/epoch - 16ms/step\n",
            "Epoch 4/30\n",
            "30/30 - 0s - loss: 0.6579 - accuracy: 0.9189 - val_loss: 1.3093 - val_accuracy: 0.6134 - 461ms/epoch - 15ms/step\n",
            "Epoch 5/30\n",
            "30/30 - 0s - loss: 0.5254 - accuracy: 0.9210 - val_loss: 1.1716 - val_accuracy: 0.8782 - 481ms/epoch - 16ms/step\n",
            "Epoch 6/30\n",
            "30/30 - 0s - loss: 0.4332 - accuracy: 0.9315 - val_loss: 1.0543 - val_accuracy: 0.8782 - 480ms/epoch - 16ms/step\n",
            "Epoch 7/30\n",
            "30/30 - 0s - loss: 0.3745 - accuracy: 0.9336 - val_loss: 0.9715 - val_accuracy: 0.8403 - 463ms/epoch - 15ms/step\n",
            "Epoch 8/30\n",
            "30/30 - 0s - loss: 0.3348 - accuracy: 0.9305 - val_loss: 0.8525 - val_accuracy: 0.8025 - 470ms/epoch - 16ms/step\n",
            "Epoch 9/30\n",
            "30/30 - 0s - loss: 0.2879 - accuracy: 0.9473 - val_loss: 0.8174 - val_accuracy: 0.8067 - 461ms/epoch - 15ms/step\n",
            "Epoch 10/30\n",
            "30/30 - 0s - loss: 0.2587 - accuracy: 0.9484 - val_loss: 0.7000 - val_accuracy: 0.8151 - 467ms/epoch - 16ms/step\n",
            "Epoch 11/30\n",
            "30/30 - 0s - loss: 0.2504 - accuracy: 0.9399 - val_loss: 0.5267 - val_accuracy: 0.9034 - 459ms/epoch - 15ms/step\n",
            "Epoch 12/30\n",
            "30/30 - 1s - loss: 0.2383 - accuracy: 0.9420 - val_loss: 0.4968 - val_accuracy: 0.8782 - 505ms/epoch - 17ms/step\n",
            "Epoch 13/30\n",
            "30/30 - 0s - loss: 0.2143 - accuracy: 0.9463 - val_loss: 0.4279 - val_accuracy: 0.8697 - 458ms/epoch - 15ms/step\n",
            "Epoch 14/30\n",
            "30/30 - 0s - loss: 0.2101 - accuracy: 0.9505 - val_loss: 0.7198 - val_accuracy: 0.7353 - 489ms/epoch - 16ms/step\n",
            "Epoch 15/30\n",
            "30/30 - 0s - loss: 0.2072 - accuracy: 0.9547 - val_loss: 0.3293 - val_accuracy: 0.8950 - 481ms/epoch - 16ms/step\n",
            "Epoch 16/30\n",
            "30/30 - 0s - loss: 0.1780 - accuracy: 0.9621 - val_loss: 0.3192 - val_accuracy: 0.8992 - 482ms/epoch - 16ms/step\n",
            "Epoch 17/30\n",
            "30/30 - 0s - loss: 0.1727 - accuracy: 0.9610 - val_loss: 0.2999 - val_accuracy: 0.9076 - 470ms/epoch - 16ms/step\n",
            "Epoch 18/30\n",
            "30/30 - 0s - loss: 0.1791 - accuracy: 0.9621 - val_loss: 0.3541 - val_accuracy: 0.8697 - 446ms/epoch - 15ms/step\n",
            "Epoch 19/30\n",
            "30/30 - 0s - loss: 0.1664 - accuracy: 0.9652 - val_loss: 0.3750 - val_accuracy: 0.8613 - 493ms/epoch - 16ms/step\n"
          ]
        }
      ]
    },
    {
      "cell_type": "markdown",
      "source": [
        "# Hyper parameter tuning"
      ],
      "metadata": {
        "id": "UTKHE1m0JAZb"
      }
    },
    {
      "cell_type": "markdown",
      "source": [
        "These were the experiments done during hyper parameter tuning:\n",
        "- **n_lstm (number of neurons in the LSTM layer)**: Started with 50, but reduced to 32 considering the simplicity of the task and to avoid overfitting\n",
        "- **l2_penalty (Value of penalty applied in L2 regularizatoin)**: Started with 0.01 but incresed to 0.02 to avoid overfitting\n",
        "- **drop_lstm (% of drop in Dropout layer after LSTM layer)**: Started with 0.15 but increased to 0.2 to avoid overfitting\n",
        "- **num_epochs**: Set at 30 but early stopping always stopped training before 25 epochs.\n",
        "- **early_stopping_patience**: Started at 3 but reduced to 2 to avoid overfitting."
      ],
      "metadata": {
        "id": "Nfzwu4w-JByH"
      }
    },
    {
      "cell_type": "markdown",
      "source": [
        "# Saving the model"
      ],
      "metadata": {
        "id": "Omot9qFjuK6J"
      }
    },
    {
      "cell_type": "code",
      "source": [
        "from tensorflow.keras.models import save_model\n",
        "\n",
        "# Saving with Keras, default `.pb` format\n",
        "save_model(model, './sar_classifier/keras_pb/')"
      ],
      "metadata": {
        "id": "4QK8f-XcuN_W"
      },
      "execution_count": null,
      "outputs": []
    },
    {
      "cell_type": "code",
      "source": [
        "import shutil\n",
        "\n",
        "# Create a zip file with model that can be dowloaded from Google Colab\n",
        "shutil.make_archive(\"sar_classifier\", 'zip', \"sar_classifier\")"
      ],
      "metadata": {
        "colab": {
          "base_uri": "https://localhost:8080/",
          "height": 36
        },
        "id": "lrhPYlBkviCh",
        "outputId": "34299190-35a3-4005-fb18-5b4a17d0b565"
      },
      "execution_count": null,
      "outputs": [
        {
          "output_type": "execute_result",
          "data": {
            "text/plain": [
              "'/content/sar_classifier.zip'"
            ],
            "application/vnd.google.colaboratory.intrinsic+json": {
              "type": "string"
            }
          },
          "metadata": {},
          "execution_count": 15
        }
      ]
    },
    {
      "cell_type": "markdown",
      "source": [
        "# Predicting Sentences"
      ],
      "metadata": {
        "id": "Y7z8_ojbtf4v"
      }
    },
    {
      "cell_type": "code",
      "source": [
        "reverse_mapping = {v: k for k, v in LABEL_MAPPING.items()}\n",
        "\n",
        "# Function to get the key from the integer value\n",
        "def get_key_from_value(value):\n",
        "    return reverse_mapping[value]"
      ],
      "metadata": {
        "id": "m0BpceWuy4gT"
      },
      "execution_count": null,
      "outputs": []
    },
    {
      "cell_type": "code",
      "source": [
        "def predict_category(predict_msg, verbose=False):\n",
        "    new_seq = tokenizer.texts_to_sequences(predict_msg)\n",
        "\n",
        "    padded = pad_sequences(\n",
        "        new_seq,\n",
        "        maxlen = max_len,\n",
        "        padding = padding_type,\n",
        "        truncating = trunc_type\n",
        "    )\n",
        "\n",
        "    prediction = model.predict(padded)\n",
        "    predicted_category = get_key_from_value(int(np.argmax(prediction, axis=-1)[0]))\n",
        "\n",
        "\n",
        "    if verbose:\n",
        "        print(f\"Prediction array: {prediction}\")\n",
        "        print(f\"Predicted class: {predicted_category}\")\n",
        "\n",
        "    return predicted_category"
      ],
      "metadata": {
        "id": "z9fSZGQH5kHc"
      },
      "execution_count": null,
      "outputs": []
    },
    {
      "cell_type": "code",
      "source": [
        "# Example sentences that should be predicted as Situation\n",
        "predict_category([\"Customers started being affected by a bug due to our most recent deploy\"], verbose=True)\n",
        "predict_category([\"One of my co-workers was set in his ways ansd was losing his patience in the discussion with the other technical team\"], verbose=True)"
      ],
      "metadata": {
        "colab": {
          "base_uri": "https://localhost:8080/",
          "height": 147
        },
        "id": "oEzRxTEeOGld",
        "outputId": "4669ee84-0ada-41dd-a33e-8de636069033"
      },
      "execution_count": null,
      "outputs": [
        {
          "output_type": "stream",
          "name": "stdout",
          "text": [
            "1/1 [==============================] - 1s 805ms/step\n",
            "Prediction array: [[0.941909   0.04496868 0.01312219]]\n",
            "Predicted class: Situation\n",
            "1/1 [==============================] - 0s 24ms/step\n",
            "Prediction array: [[0.97127837 0.01434894 0.01437267]]\n",
            "Predicted class: Situation\n"
          ]
        },
        {
          "output_type": "execute_result",
          "data": {
            "text/plain": [
              "'Situation'"
            ],
            "application/vnd.google.colaboratory.intrinsic+json": {
              "type": "string"
            }
          },
          "metadata": {},
          "execution_count": 44
        }
      ]
    },
    {
      "cell_type": "code",
      "source": [
        "# Example sentences that should be predicted as Action\n",
        "predict_category([\"I promptly opened an incident and alerted all parties involved\"], verbose=True)\n",
        "predict_category([\"I reminded everyone that we were in the same team and that we each can contribute with different perspectives\"], verbose=True)"
      ],
      "metadata": {
        "id": "xMcZEVR9Of3M",
        "colab": {
          "base_uri": "https://localhost:8080/",
          "height": 147
        },
        "outputId": "54c8a19c-ad66-41f5-e95e-a1218ce57bed"
      },
      "execution_count": null,
      "outputs": [
        {
          "output_type": "stream",
          "name": "stdout",
          "text": [
            "1/1 [==============================] - 0s 22ms/step\n",
            "Prediction array: [[5.1926469e-05 9.9965549e-01 2.9252836e-04]]\n",
            "Predicted class: Action\n",
            "1/1 [==============================] - 0s 24ms/step\n",
            "Prediction array: [[8.5002906e-04 9.9828488e-01 8.6506392e-04]]\n",
            "Predicted class: Action\n"
          ]
        },
        {
          "output_type": "execute_result",
          "data": {
            "text/plain": [
              "'Action'"
            ],
            "application/vnd.google.colaboratory.intrinsic+json": {
              "type": "string"
            }
          },
          "metadata": {},
          "execution_count": 45
        }
      ]
    },
    {
      "cell_type": "code",
      "source": [
        "# Example sentences that should be predicted as Result\n",
        "predict_category([\"My team's initiative saved the company 1 million dollars per year\"], verbose=True)\n",
        "predict_category([\"In the end, the project saved the company 1 million dollers per year\"], verbose=True)"
      ],
      "metadata": {
        "colab": {
          "base_uri": "https://localhost:8080/",
          "height": 147
        },
        "id": "Iu-7jpvxv78f",
        "outputId": "74631400-f4da-4e49-b3e8-55161d1bf3d6"
      },
      "execution_count": null,
      "outputs": [
        {
          "output_type": "stream",
          "name": "stdout",
          "text": [
            "1/1 [==============================] - 0s 23ms/step\n",
            "Prediction array: [[0.41846022 0.08887616 0.49266368]]\n",
            "Predicted class: Result\n",
            "1/1 [==============================] - 0s 21ms/step\n",
            "Prediction array: [[0.12978202 0.01093934 0.8592786 ]]\n",
            "Predicted class: Result\n"
          ]
        },
        {
          "output_type": "execute_result",
          "data": {
            "text/plain": [
              "'Result'"
            ],
            "application/vnd.google.colaboratory.intrinsic+json": {
              "type": "string"
            }
          },
          "metadata": {},
          "execution_count": 46
        }
      ]
    },
    {
      "cell_type": "markdown",
      "source": [
        "# Analysing interview answers"
      ],
      "metadata": {
        "id": "zagR39-U6Kyx"
      }
    },
    {
      "cell_type": "code",
      "source": [
        "import nltk\n",
        "nltk.download('punkt')"
      ],
      "metadata": {
        "colab": {
          "base_uri": "https://localhost:8080/"
        },
        "id": "UZlGR37K6p8N",
        "outputId": "04014fc0-bfd8-485d-dade-e49e45e2f177"
      },
      "execution_count": null,
      "outputs": [
        {
          "output_type": "stream",
          "name": "stderr",
          "text": [
            "[nltk_data] Downloading package punkt to /root/nltk_data...\n",
            "[nltk_data]   Unzipping tokenizers/punkt.zip.\n"
          ]
        },
        {
          "output_type": "execute_result",
          "data": {
            "text/plain": [
              "True"
            ]
          },
          "metadata": {},
          "execution_count": 21
        }
      ]
    },
    {
      "cell_type": "code",
      "source": [
        "all_categories = [\"Situation\", \"Action\", \"Result\"]\n",
        "\n",
        "def find_missing_elements(received_list):\n",
        "    master_set = set(all_categories)\n",
        "    received_set = set(received_list)\n",
        "    missing_elements = list(master_set - received_set)\n",
        "    return missing_elements"
      ],
      "metadata": {
        "id": "_S0SjWQj-SxU"
      },
      "execution_count": null,
      "outputs": []
    },
    {
      "cell_type": "code",
      "source": [
        "from nltk.tokenize import sent_tokenize\n",
        "\n",
        "\n",
        "def analyse_answer(answer):\n",
        "    sentences = sent_tokenize(answer)\n",
        "    sentence_categories = []\n",
        "\n",
        "    for sentence in sentences:\n",
        "        sentence_categories.append(predict_category([sentence], verbose=False))\n",
        "\n",
        "    for sentence, category in zip(sentences, sentence_categories):\n",
        "        print(f\"Sentence: {sentence}; Category: {category}\")\n",
        "\n",
        "    missing_categories = find_missing_elements(sentence_categories)\n",
        "\n",
        "    if not missing_categories:\n",
        "        print(\"All categories present in answer. The answer follows the SAR format\")\n",
        "    else:\n",
        "        print(f\"The following category/categories are missing from the answer: {missing_categories}\")"
      ],
      "metadata": {
        "id": "FEfdTxvt7BaY"
      },
      "execution_count": null,
      "outputs": []
    },
    {
      "cell_type": "code",
      "source": [
        "# Should be judged as a complete answer\n",
        "answer1 = \"There was an issue with supply chain. I analyzed data and provided my boss two options and they decided to dig into one area, ordering. Based on my findings and the work we did, the turnaround time from ordering all the way to shipping reduced from 2 weeks to 5 days.\"\n",
        "\n",
        "analyse_answer(answer1)"
      ],
      "metadata": {
        "colab": {
          "base_uri": "https://localhost:8080/"
        },
        "id": "P_Oe8lvW4obn",
        "outputId": "7f3c3156-d7dc-4ce4-f45b-bd4a356373f9"
      },
      "execution_count": null,
      "outputs": [
        {
          "output_type": "stream",
          "name": "stdout",
          "text": [
            "1/1 [==============================] - 0s 25ms/step\n",
            "1/1 [==============================] - 0s 22ms/step\n",
            "1/1 [==============================] - 0s 21ms/step\n",
            "Sentence: There was an issue with supply chain.; Category: Situation\n",
            "Sentence: I analyzed data and provided my boss two options and they decided to dig into one area, ordering.; Category: Action\n",
            "Sentence: Based on my findings and the work we did, the turnaround time from ordering all the way to shipping reduced from 2 weeks to 5 days.; Category: Result\n",
            "All categories present in answer. The answer follows the SAR format\n"
          ]
        }
      ]
    },
    {
      "cell_type": "code",
      "source": [
        "# Lacking a Result\n",
        "answer2 = \"Revenue was down in the quarter. I analyzed revenue streams for the previous six months to identify bottlenecks or gaps in our sales cycle.\"\n",
        "\n",
        "analyse_answer(answer2)"
      ],
      "metadata": {
        "colab": {
          "base_uri": "https://localhost:8080/"
        },
        "id": "40nz0fiM8cwc",
        "outputId": "6b914461-3dcb-4513-f623-a000deef11e1"
      },
      "execution_count": null,
      "outputs": [
        {
          "output_type": "stream",
          "name": "stdout",
          "text": [
            "1/1 [==============================] - 0s 91ms/step\n",
            "1/1 [==============================] - 0s 138ms/step\n",
            "Sentence: Revenue was down in the quarter.; Category: Result\n",
            "Sentence: I analyzed revenue streams for the previous six months to identify bottlenecks or gaps in our sales cycle.; Category: Action\n",
            "The following category/categories are missing from the answer: ['Situation']\n"
          ]
        }
      ]
    },
    {
      "cell_type": "code",
      "source": [
        "# Lacking a Situation\n",
        "answer3 = \"I was gossiping with my classmates. We came up with a solution to do forecasting.\"\n",
        "\n",
        "analyse_answer(answer3)"
      ],
      "metadata": {
        "colab": {
          "base_uri": "https://localhost:8080/"
        },
        "id": "Xh4o0L13-xs3",
        "outputId": "b6e48845-0513-4864-ee75-7e2229a05e2a"
      },
      "execution_count": null,
      "outputs": [
        {
          "output_type": "stream",
          "name": "stdout",
          "text": [
            "1/1 [==============================] - 0s 22ms/step\n",
            "1/1 [==============================] - 0s 22ms/step\n",
            "Sentence: I was gossiping with my classmates.; Category: Action\n",
            "Sentence: We came up with a solution to do forecasting.; Category: Result\n",
            "The following category/categories are missing from the answer: ['Situation']\n"
          ]
        }
      ]
    },
    {
      "cell_type": "markdown",
      "source": [
        "# Conclusion"
      ],
      "metadata": {
        "id": "FSDk9dmWIRNs"
      }
    },
    {
      "cell_type": "markdown",
      "source": [
        "**Resource utilization**: The model is very lightweight, and the dataset is not huge. Only CPU was enough"
      ],
      "metadata": {
        "id": "tI1Aw9HHS18A"
      }
    },
    {
      "cell_type": "markdown",
      "source": [
        "**Nexts steps**:\n",
        "- **Improve dataset:** Get a larger dataset with a bigger variety of sentences, encapsulating different ways of writing\n",
        "- **Make model more complex:** With a richer dataset, it is possible to add more layers and more neurons to each layer to capture more patterns without overfitting.\n",
        "- **Capture the order of the sentences:** A sentence might be a Situation or Result if it is placed in the beggining or the and of a complete answer. Currently, the model can only evaluate each sentence separately, but analyzing the order of the sentences would improve the model a lot."
      ],
      "metadata": {
        "id": "tUHU4EQ6TJeo"
      }
    },
    {
      "cell_type": "markdown",
      "source": [
        "**Lessons learned**:\n",
        "- A dataset that is too small makes every sentence very important, especially if you are training an LSTM from scratch\n",
        "- LLMs are very efficient tools for helping in generating datasets. However, it is necessary to be wary that the sentences produced might be too similar or might all be written in a similar \"manner of speech\". This might heavily affect your model.\n",
        "- Semantics like the difference between a Situation in a Result can be quite subjective, even for humans. However, this Bi-Directional LSTM did a good job of capturing these nuances given the circumstances."
      ],
      "metadata": {
        "id": "1YAOmCx3VzTV"
      }
    },
    {
      "cell_type": "code",
      "source": [],
      "metadata": {
        "id": "Kk1kIlX_Vv1l"
      },
      "execution_count": null,
      "outputs": []
    }
  ]
}